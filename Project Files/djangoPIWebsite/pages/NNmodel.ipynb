{
 "cells": [
  {
   "cell_type": "code",
   "execution_count": 157,
   "metadata": {},
   "outputs": [],
   "source": [
    "import pandas as pd\n",
    "import numpy as np\n",
    "import nltk"
   ]
  },
  {
   "cell_type": "code",
   "execution_count": 158,
   "metadata": {},
   "outputs": [
    {
     "name": "stdout",
     "output_type": "stream",
     "text": [
      "     class                                               text\n",
      "0       no  i'll  buy  the  iphone   x  if it can  get  ac...\n",
      "1       no  Some dude in FB selling the  iPhone   X  64 gb...\n",
      "2      yes  Home dab emote man today and I  get  hopped on...\n",
      "3      yes                               Buy  an  iPhone   X \n",
      "4       no  I hate iOS 11. My  iPhone  6+ works 10X slower...\n",
      "7       no  Bo-go sale tomorrow at T-Mobile  buy  one  get...\n",
      "8      yes  I can  get  the  iPhone   X  here.... If I'm w...\n",
      "9      yes  When you  buy  an  Iphone   X  with Unlimited ...\n",
      "10     yes  @ Mrwhosetheboss  i really  wish  i  get  to m...\n",
      "11      no  @ sprint  @sprintcare  if I switch to @TMobile...\n",
      "12      no  Oneplus 5t has faster face recognition than  i...\n",
      "13      no  Don't  buy  an  iPhone   X  if you're ugly. I ...\n",
      "14      no  Could  buy  2x 5T with the price I paid for th...\n",
      "15     yes  My friend shopping:  iPhone   X  is not that e...\n",
      "16     yes  What if there was upgrade to an  iPhone  8 or ...\n",
      "19      no  I don't  get  it is it basically impossible to...\n",
      "20     yes  The  iPhone   X  is a pleasure to use. Far mor...\n",
      "22      no  I wanted the  IPhone   X  but now that most pl...\n",
      "23     yes  I  love  these holiday gift guides that assume...\n",
      "24     yes  VIP  NEED   BUY  AN  IPHONE   X   https:// twi...\n",
      "27      no  Anyone else experiencing an  iPhone  glitch wh...\n",
      "29     yes  Need  to just  buy  that  iPhone   X  so I can...\n",
      "30     yes  Apple just send me an email with Christmas gif...\n",
      "32     yes                               Buy  an  iPhone   X \n",
      "33     yes                              Love  the Design.... \n",
      "34      no  u can  buy  yourself an  iPhone   X  but can n...\n",
      "35     yes  I  love  my Note 8 its been an  awesome  phone...\n",
      "36      no                             Not this what i want  \n",
      "37      no  In crazy  love  with this video!!! Don't  Buy ...\n",
      "39     yes                 So in  love   w  the  iPhone   x .\n",
      "...    ...                                                ...\n",
      "1296    no  Im an Apple fanboy and I never thought I would...\n",
      "1297    no  So the  iPhone   X  is not  like  the letter i...\n",
      "1299   yes                  I'm gonna  buy  the  iPhone   X .\n",
      "1300   yes                     iPhone   X  brightness is good\n",
      "1303   yes  Got notified this morning my card was charged ...\n",
      "1306   yes  Had some hands-on time with a friend’s  iPhone...\n",
      "1307   yes                 i  need  my  iphone   x  to ship !\n",
      "1309    no  fucked up by messing with the  iphone   x  at ...\n",
      "1310   yes  The executive summary of this  iPhone   X  Dia...\n",
      "1311   yes                          I  need  that  iPhone   X\n",
      "1314   yes  Trying to  get  use to my  iPhone   X .  Wish ...\n",
      "1316   yes  Went to  get  the  iPhone   X  today but after...\n",
      "1317   yes  I just justified the  purchase  of this  iPhon...\n",
      "1318    no   I’m not upgrading to shit but that  iPhone   X .\n",
      "1319   yes  some kid walked into class with an  iPhone   X...\n",
      "1322    no                   I did not  want  an  iPhone   X \n",
      "1323   yes           Buy   iphone   x  for me from abroad... \n",
      "1328   yes                     Need  the  iPhone   X  asap...\n",
      "1331   yes      I  need  the  iPhone   X  just for the camera\n",
      "1332    no  So disappointed with my  iPhone   X  it didn’t...\n",
      "1334    no  iPhone   X  is such a  bad  investment so  exp...\n",
      "1335   yes  My brother can go and  get  him a whole  IPhon...\n",
      "1336   yes                       iPhone   X  is sooooo pretty\n",
      "1338   yes  Y’all  need  to just go ahead and  get  this  ...\n",
      "1342    no  I wanted to say I’m more in  love  with my  iP...\n",
      "1344   yes  All I  want  for Christmas Deb Ziegler Benton ...\n",
      "1346    no  I don’t  want  the  iPhone   X  until there’s ...\n",
      "1348   yes  need  a  iphone   x  so i can take a pic for m...\n",
      "1349   yes  I’m still getting used to the  iPhone   X  lay...\n",
      "1352   yes  love  this thread but i  need  my  iphone   X ...\n",
      "\n",
      "[755 rows x 2 columns]\n"
     ]
    }
   ],
   "source": [
    "def Extract (path):\n",
    "    fd= open(path,encoding=\"utf-8\", errors='replace')\n",
    "    df = pd.read_csv(fd)   \n",
    "    defined=df['class'] != (\"undefined\")\n",
    "    # #output dataframe without undeined\n",
    "    df2=df[defined]\n",
    "    defined1=df2['class'] !=\"Undefined\"\n",
    "    df4=df2[defined1]\n",
    "    #replace no PI with no\n",
    "    df3=df4.replace(\"No PI\",\"no\")\n",
    "    #replace PI with yes\n",
    "    final=df3.replace(\"PI\",\"yes\")\n",
    "    \n",
    "    replace_yes=final.replace(\"Yes\",\"yes\")\n",
    "    final_df= replace_yes.replace(\"No\",\"no\")\n",
    "    return final_df, df\n",
    "\n",
    "path='./Training.csv'\n",
    "final_df,df=Extract(path)\n",
    "# print(df['class'].value_counts())\n",
    "print(final_df)\n"
   ]
  },
  {
   "cell_type": "code",
   "execution_count": 159,
   "metadata": {},
   "outputs": [
    {
     "name": "stdout",
     "output_type": "stream",
     "text": [
      "          class                                               text\n",
      "5     undefined  Brilliant @johnlewisretail - added  iPhone   X...\n",
      "6     undefined  They doing that on purpose cause mine is to. T...\n",
      "17    undefined                                So if I  buy  a  X \n",
      "18    undefined  Buy   iPhone   X  and  get  in the same and yo...\n",
      "21    undefined  If @Spacekatgal  didn't  get  an  iPhone   X  yet\n",
      "25    undefined  I ordered my pixel 2 on Tuesday from Google & ...\n",
      "26    undefined  Would it be the same if I  buy  an  iPhone   X...\n",
      "28    undefined  I wanna  buy  my mom a new  iPhone  so bad. I ...\n",
      "31    undefined  @ AppleSupport   I have received the  iphone  ...\n",
      "38    undefined  I  wish  I had a girl that rode for me  like  ...\n",
      "41    undefined  You look  like  you stalk the uptown event the...\n",
      "42    undefined  What you got  like  4  IPhone   X 's  buy  me ...\n",
      "46    undefined  Who  need   iphone   x  I got the direct plug ...\n",
      "51    undefined  Pre-registered customers at T World who will  ...\n",
      "54    undefined  How the hell to  get  my sugar daddy to  buy  ...\n",
      "56    undefined  If you are deciding to  buy  Apple Care + for ...\n",
      "59    undefined  I have noticed that when a new  iPhone  comes ...\n",
      "60    undefined  UPS is the WORST.  iPhone   X  is taking the P...\n",
      "61    undefined  Should I  buy   iPhone  8 Plus or wait a lil b...\n",
      "64    undefined  Apple's Animoji might not  need  the  iPhone  ...\n",
      "70    undefined  I was getting ready to  buy  the  iPhone   X  ...\n",
      "71    undefined       Day 1  w /  iPhone   X  - first impressions:\n",
      "73    undefined  God keeps sending me signs to  buy  the  iPhon...\n",
      "74    undefined  I added a video to a @YouTube  playlist  http:...\n",
      "75    undefined  Whatsup  w  all the question emojis  like  we ...\n",
      "76    undefined  Get  your santa  wish  list ready  iphone   x ...\n",
      "77    undefined  # WednesdayWisdom  YOU  NEED  TO SEE TGIS VIDE...\n",
      "78    undefined  I feel  like  this happens every time a new  i...\n",
      "81    undefined  I hate  http:// to.read    negativity towards ...\n",
      "85    undefined  If I  get  a buck for every typo I make in a t...\n",
      "...         ...                                                ...\n",
      "1286  undefined  I  wish  I knew someone who had an  iPhone   X...\n",
      "1287  undefined             Maybe  iPhone   X  is  like  a Pokémon\n",
      "1295  undefined  I don't regret it at all. Just  wish  I had wa...\n",
      "1298  undefined  ROTFLMAO! RT @selfcritics : People : why did y...\n",
      "1301  undefined  Dear @ChipotleTweets . Your new app requires m...\n",
      "1302  undefined                         you won’t give me your dog\n",
      "1304  undefined                How yall  like  yall  iphone   x ??\n",
      "1305  undefined                   When you  get  the  iPhone   X ?\n",
      "1308  undefined                 See now I'm sitting here  like .. \n",
      "1312  undefined  We  want  some stacks  like  this one for  iPh...\n",
      "1313  undefined                                  Y’all at @Apple  \n",
      "1315  undefined                   Should i  get  the  iphone   x  \n",
      "1320  undefined                                               Damn\n",
      "1321  undefined  Every time I  get  a new  iPhone  I'm always e...\n",
      "1324  undefined  But how does the home indicator work? For  iPh...\n",
      "1325  undefined  @ applesupport  my  iPhone   X  was lost by UP...\n",
      "1326  undefined            Why  iPhone   X  will  get  MR at WWDC:\n",
      "1327  undefined  So my friend has the  iPhone   X  right and i ...\n",
      "1329  undefined  tried to go  get  the  iphone   x . apparently...\n",
      "1330  undefined  Who told my mom to  get  this  iPhone   X .......\n",
      "1333  undefined  Want  a cool wallpaper for your  iPhone   X ? ...\n",
      "1337  undefined  Goodbye Verizon and your  expensive  ass payme...\n",
      "1339  undefined  So you ( like  most of us) have opted to take ...\n",
      "1340  undefined  @ andywaysworld ’s  iPhone   X  makes my 7 Plu...\n",
      "1341  undefined  The first  iPhone  came out 10 years ago. 10 y...\n",
      "1343  undefined  5 Tips to Help You  Get  the Most Out of Apple...\n",
      "1345  undefined                     iPhone   X  Diary: One week in\n",
      "1347  undefined  I have to ship my old #iPhone  back since I bo...\n",
      "1350  undefined                              If You Have A Brother\n",
      "1351  undefined  Because many things on  iPhone   X  depends on...\n",
      "\n",
      "[441 rows x 2 columns]\n"
     ]
    }
   ],
   "source": [
    "#create series of true and false. False is assigned for yes/no. True is for undefined\n",
    "undefined=df['class'] == \"undefined\" \n",
    "#output dataframe without undeined\n",
    "df_undefine=df[undefined]\n",
    "print(df_undefine)"
   ]
  },
  {
   "cell_type": "code",
   "execution_count": 160,
   "metadata": {},
   "outputs": [],
   "source": [
    "def text_concat():\n",
    "    text=\"\"\n",
    "    for x in final_df[\"text\"]:\n",
    "        text=text +str(x)\n",
    "    return text\n",
    "corpus=text_concat()"
   ]
  },
  {
   "cell_type": "code",
   "execution_count": 161,
   "metadata": {},
   "outputs": [],
   "source": [
    "import re\n",
    "from nltk.corpus import stopwords \n",
    "from nltk.tokenize import word_tokenize \n",
    "\n",
    "def removeStopWords(text):\n",
    "    stop_words = set(stopwords.words('english')) \n",
    "    word_tokens = word_tokenize(text) \n",
    "    filtered_sentence = [] \n",
    "    for w in word_tokens: \n",
    "        if w not in stop_words: \n",
    "            filtered_sentence.append(w.lower()) \n",
    "    #return list of corpus without stop words in a list.        \n",
    "    return filtered_sentence  \n",
    "\n",
    "def removePunc(eachText):\n",
    "    remove_punc = re.sub(r'[^\\w\\s]','',eachText)\n",
    "    #return corpus with out punctuation.\n",
    "    return remove_punc\n",
    "\n",
    "\n",
    "\n",
    "def clean_data(corpus):\n",
    "    remove_punc=removePunc(corpus)\n",
    "    li_remove_stopWords= removeStopWords(remove_punc)\n",
    "    return li_remove_stopWords\n",
    "\n",
    "li_cleaned_text = clean_data(corpus)\n",
    "# bprint(li_cleaned_text)"
   ]
  },
  {
   "cell_type": "code",
   "execution_count": 145,
   "metadata": {},
   "outputs": [
    {
     "name": "stdout",
     "output_type": "stream",
     "text": [
      "['pleasewish', 'considering', '1i', 'apples', 'add', 'succes', '0macappsapplesclips20putsyouinthemillenniumfalconoramegadestroyerhtml', 'ucnews_india', 'sooo', 'hadnt', 'bravo', 'begged', 'ordering', 'lmaoim', 'thankswhen', 'explanation', 'coldmy', 'regardless', 'label', 'volume', 'reviewspathetic', 'sprintcare', 'tmobile', 'mate', 'phoneits', 'wonderful', 'creeping', 'game', 'really', 'humpty', 'buyingi', 'attention', 'else', 'tiny', 'itmy', 'helps', 'xshould', 'makes', '7layerskinzcom', 'spent', 'nothin', 'however', 'swore', 'applesupport', 'machinery', 'suggestions', 'someday', 'seemed', 'slove', 'theyre', 'digits', 'kill', 'thatyour', 'zoellas', 'markdohner', 'hmmmmjust', 'funds', 'gained', 'friendsjust', 'selling', 'recover', 'infront', 'wedding', 'hello', 'next', 's928670046565515264', 'temporarily', 'pictwittercombbvbifoe8s', 'went', 'dealers', 'customers', 'many', 'rajivmakhni', '133x', 'taking', 'pays', 'qz', 'choice', 'backnot', 'backimma', 'poor', 'seems', 'motherfuckers', 'prepared', 'anyone', 'tbhi', 'trick', 'failgot', 'benefiti', 'sooooo', 'xsomeone', 'feign', 'onlyinafrica', 'max4200', 'useless', 'planet', 'id', 'payment', 'found', '1068026546504548352', '350', 'reviews', 'officialimicca', 'theyd', 'single', 'commercial', 'aint', 'radio', 'quicker', 'fools', 'fantasy', 'christmas', 'couple', 'newest', 'although', 'delivered', 'unresponsiveso', 'congrats', 'dat', 'applestore', 'watch', 'experiencing', 'tutorials', 'bro', 'versionpoor', 'lots', 'oc', 'owyoucangetafreeiphone864gbwhenyoubuyaniphonexatatt_id99708', 'uses', '1password', 'overpriced', '256gb', 'hahaha', 'henrywood2142', '24', 'facialrecognition', 'choiceiphone', '4sapple', 'usual', 'well', 'help', 'notch', 'side', 'pls', 'actually', 'ohyoure', '12', 'proper', 'cracked', 'lose', 'enjoy', 'products', 'xi', 'modeli', 'xthats', 'large', 'jack', 'suggested', 'pics', 'easier', 'instagram', 'churros', 'colour', 'steve', 'colors', 'either', 'father', 'harps', '1after', 'easy', '1st', 'impossible', 'forget', 'in', 'wonbuy', 'ifttt2hnqh9i', 'tv', 'lolso', 'freak', '10', 'confused', 'staff', 'thousand', 'new', 'pictwittercomjixvit1k0swhy', 'money', '1724', 'looked', 'wif', 'excited', 'iphones', 'actuallybuy', 'tempting', 'upgrading', 'screenshots', 'aldi', 'whats', 'cnetco2ds00h2', 'daughters', 'priced', 'og', 'change', 'product', 'rated', 'click', 'access', 'front', 'never', 'wanti', 'installed', '099', 'talli', 'iphonex', 'ministers', 'excuse', 'twittercombusinessinside', 'advent', '4', 'method', 'twittercomyongiemystics', 'sorry', 'spend', 'trying', 'current', 'lovers', 'lord', 'million', 'motivation', 'son', 'include', 'xyou', 'badthe', 'ethandolan', 'allowed', 'availability', 'itwish', 'unlocked', 'gave', 'pulling', 'raised', 'youre', 'data', '1000my', 'america', 'selfiescould', 'websiteiphone', '6yall', 'curryspcworld', 'laugh', 'thisthat_tha3rd', 'except', 'incredible', 'ahead', 'saadilamdin', 'passwordif', 'checked', 'till', 'planthe', 'monday', 'hoping', 'adopted', 'popular', 'freethe', 'wendy', 'toldme', 'plzthe', 'awesome', 'insurance', 'spare', 'he', 'shit', '1100', 'seem', 'phonehate', 'more', 'come', 'psychopath', 'horizontal', 'highest', 'guessing', 'aus', 'off', 'added', 'moment', 'monopoly', 'generally', 'abroad', 'personal', 'sasautoscomlink43316119', 'homescreen', 'edition', 'stores', 'cultcast', 'youtube0vzgklj9mpqa', 'smhi', 'owner', 'art', 'saydo', 'xiphone', 'capability', 'investment', 'number', 'employer', 'rating', '240', 'no', 'emote', 'applepay', 'maxes', 'target', 'blazing', 'fckn', '3rd', 'cousin', 'temptation', 'oneplus', 'ipad', 'steep', 'omo', 'higher', 'dollarsbutttt', '24k', 'experience', 'wont', 'relationship', 'solid', 'car', 'bullshit', 'fasthey', 'honestly', 'apparently', 'sold', 'overall', 'sucks', 'camp', 's8', 'calls', 'mkbhd', 'at', 'tbh', 'nothing', 'supposed', 'debating', 'soo', 'call', 'hypnotized', 'love', '3we', 'plus', 'leavinglike', 'xit', 'did', 'mates', 'iam_erica', 'rlly', 'outright', 'struggle', 'til', 'feature', '15', 'brazil', 'breaking', 'still', 'upfront', 'euro', 'sleeker', 'placed', 'wi', 'justified', 'heard', 'extra', 'ordered', 'shirti', '999', 'mehn', 'got', 'orderhow', 'far', 'todaybest', 'all', 'google', 'blurred', 'uttar', 'possibly', 'buggati', 'especially', 'wake', 'lady', 'able', 'highly', 'fbme1jd4s5mfc', 'iosblack', 'devices', 'twittercomdsharp_runsst', 'faster', 'offered', 'home', 'efkj8m0aemiim4jh0x3cgyiq3d3dutm_sourcecompetitionutm_mediumreferralutm_campaigncompetition20sharing', 'guy', 'existedmy', 'also', 'horrible', 's1068249266026614784', 'goodthat', 'take', 'ididnt', 'burnin', 'shop', 'was', 'star', 'his', 'knows', 'tf', 'exception', 'resolution', 'somethingall', 'marketing', 'stupid', 'samsungs', 'super', '1k', 'holla', 'hshshsh', 'retort', 'faceid', 'iphone7', 'kidney', 'xwhy', 'takes', 'always', 'going', 'instagramcompbbxanptje3i', 'pricing', 'haptics', 'groceries', '193', 'cold', 'forfinally', 'plusim', 'thinks', 'sony', 'diary', 'grandma', 'creating', 'skegness', 'live', 'allwayshey', 'youtubeso', 'looking', 'youtubeed3r9bzzlge', 'for', 'size', 'flipitgwznhh', 'mum', 'say', 'mts', 'anddddd', 'unhappy', 'beli', 'hahaneed', 'whenever', 'depressed', 'physically', 'story', 'xits', 'closed', 'youtubee6rmnflofe8a', 'planned', 'camera', 'trade', 'sync', 'turned', 'oh', 'rejoin', 'ughhhits', 'coming', '250', 'memories', 'dadused', 'nicei', 'anaseini', 'cop', 'ny', 'wtfreally', 'wellthe', 'mashable', 'iti', 'networks', 'au', 'meiphone', 'fest', 'ucstarfest', 'shotoniphone', 'shoved', 'pros', 'shitif', 'main', 'maxhello', 'everyday', 'outits', 'nyc', 'night', 'max', 'didnt', 'stop', 'en', 'pictwittercom4lipdpjbufthe', 'definitely', 'loliphone', 'assume', 'premium', 'desired', 'reality', 'willing', '10yearolds', 'tonight', 'whether', 'put', 'jokes', 'total', 'guessthis', 'dickhead', 'reviewsso', 'baddo', 'upshelp', 'finally', 'older', 'unlocks', 'nonissue', 'commercials', 'stack', 'san', 'launch', 'meonly', 'shipment', 'xmasi', 'phonei', 'contract', 'hansoni', 'uncarrier', 'protect', 'missing', 'minutes', '4what', 'knowing', 'ughhhgonna', 'vulnerable', 'throws', 'success', 'tap', 'started', 'theres', 'radios', 'users', '200', 'hella', 'saliva', 'reareal_t3vin11', 'twittercomolajvdestatus', 'tim_cook', 'manage', 'smashed', 'lmk', 'getting', 'enjoyable', 'shows', 'gamblewish', 'white', 'starsi', 'store', '256gbsince', 'exist', 'treesi', 'asapi', 'mindset', 'tmobiles', 'lovely', 'unless', 'grand', 'dab', 'fucked', 'phone', 'normal', 'slightly', 'kinda', 'idthinkin', 'flagshipsbullshit', 'deb', 'life', 'accident', 'thati', 'drives', 'pictwittercomrefhi3gc8vthey', 'fucking', 'iphoneunboxing', 'repair', 'seen', 'beautiful', 'xnah', 'flame', 'bout', 'itll', 'center', 'sux', 'pictwittercomj5zkczudnilmao', 'might', 'not', 'man', 'this', 'replacinglove', 'xwait', 'bigbrother', 'screeni', 'ship', 'button', '245', 'pulled', 'australiareturned', '1200', 'fixed', 'owners', 'deliver', 'vid', 'rid', 'worst', 'awesomeme', 'xgrayson', 'thisif', 'dilemma', 'care', '30mbit', 'just', 'copy', 'port', 'pictwittercom0w6rdfvpfmstupidity', 'break', '6t', 'cited', 'annoying', 'kid', 'school', 'dies', 'forward', 'hearing', 'tculpan', 'paye', 'pictwittercomx1bnvnseqzso', 'sign', 'charged', 'bud', 'airplane', 'httpswww', 'enjoying', 'loans', 'win', 'anybody', 'an', 'dollar', 'suffered', 'hands', 'resist', 'nicely', 'lcd', 'pictwittercomiayz2yxnzaim', 'difficdoes', '1000000', 'earlier', 'useseriously', 'andddddd', 'needs', 'taken', 'absolute', 'canada', 'buying', 'badwe', 'tfi', 'pictwittercomz5kosv72yemy', 'join', 'late', '1500when', 'gear', 'rstatus930155971191681026', 'toronto', 'dufresh4', 'blocked', 'auntvip', 'best', 'thingi', 'questionable', 'android', 'grounded', 'type', 'brand', 'europeapple', 'alreadyyyyyyyyyyyyy', 'fail', 'sure', 'world', 'rather', 'untill', 'eitherwent', '256gbiphone', '2018', '2so', '3d', 'terms', 'square', 'pictwittercomrueekshlb6lol', 'hit', 'think', 'sit', 'odd', 'im', 'estimates', 'behind', 'backgrounds', 'missed', 'davidinglestvsaw', 'wish', 'fine', 'anymore', 'dick', 'music', 'cameraso', 'landscape', 'seriouslydebt', 'prove', 'seei', 'lucky', 'realize', 'calling', 'made', 'visit', 'darkwatch', 'pictwittercomgw5lvdvsdcso', 'heat', 'want', 'scammed', 'stoopid', 'my', 'took', 'ups', 'smarter', 'funi', 'pictwittercomvx6c3h7xdh', 'mfs', 'bens', 'today', 'atus928766636563185664', 'wired', '100', 'somebody', 'moneyi', 'onlyme', 'some', 'wallpaper', 'personally', 'entered', 'returned', 'twittercomgodsperfection', 'ashleybeauty43', 'thingim', 'ads', 'future', 'videos', 'purchase', 'bestyup', 'sundar', 'hopefully', 'buy', 'why', 'reader', 'phoneim', '105', 'mine', 'disappointed', 'fullestiphone', 'nerdwomanisme', 'kingseun3', 'watchwhy', 'ulta', 'favourite', 'spoil', 'tweaking', 'knowwww', 'doctor', 'country', 'xthose', 'millions', '4th', 'niis', 'smooth', 'guys', 'playlist', 'plustbh', 'daddy', 'speed', 'nice', 'login', 'de', 'cost', 'keep', 'indiawas', 'badwhy', 'exploit', 'guess', 'screaming', 'rock', 'minute', 'unlock', 'isnt', 'return', 'pictwittercomuhpefph8yni', 'apartment', 'brother', 'changing', 'wednesdaythoughts', 'says', 'ab', 'texts', 'flawless', 'high', 'reviewshow', 'netflix', 'insteadwish', 'comparison', 'audio', 'justice', '280cdont', 'nowi', 'x', 'mothers', 'narrower', 'dualipajust', 'prices', 'slash', 'op', '82', 'hadi', 'eyes', 'fuck', 'via', 'feels', 'nov', 'limit', 'uglier', 'ohh', 'like', '5k', 'wordi', 'ppl', 'nothingpraying', 'tradein', 'representative', 'knowi', 'word', 'talk', 'commuter', 'decent', 'lulu', 'loginedge', 'asked', 'flagships', 'complaining', 'atus928349765582118912', 'opportunity', 'shitty', 'lolwhat', 'mommy', '3t5g9ysc1sc1l1ppy4291063', 'headquarters', 'preferred', 'nigga', 'understand', 'wasnt', 'firstif', 'dude', 'cameras', 'foreverrrrrr', 'works', 'owni', 'from', 'meet', 'mall', '926235033358155777', '38000', 'around', 'twittercommanxomemiasta', 'ima', 'youtubesqldxppmsea', 'go', '060i', 'reasonable', 'guilty', 'blue', '4kgot', 'acting', 'morning', 'thought', 'lucknow', '769', 'end', 'johnlegere', 'lost', 'seconds', 'computer', 'rack', 'system', 'sugardaddy', 'cabinet', 'broken', 'and', 'video', 'review', 'upset', 'blow', 'sale', 'opinion', 'sooooooo', 'utterly', 'winner', 'wouldnt', 'pick', 'hate', 'ex', 'envirofone', 'dumb', 'ill', 'losers', 'iphanboys', 'plan', 'activated', 'tired', 'customer', 'contractlike', 'methis', 'device', 'fml', '11', 'businessbest', 'instead', 'prof', 'show', 'lmaoo', 'the', 'tooth', '256prolly', '30th', 'may', 'lolmy', 'thingbuy', 'zoella', 'thinking', 'complaint', 'clappedlooks', 'spoofing', 'itiphone', 'recommended', 'avatars', 'nathantriska', 'little', 'working', 'here', 'runs', '128gb', '246', '64gb', 'helptested', 'third', 'sidesliterally', 'problems', 'orders', 'would', 'yet', 'huge', 'following', 'plusi', 'another', 'devicei', 'youtube', 'reselling', 'srorythe', 'warranty', 'o2', 'matter', 'along', 'outside', 'instagramcompbbsvyonfboy', 'trading', 'everythinghey', 'shrek', 'v', 'weekend', 'thoughtoday', 'collectors', 'spoken', 'pictwittercom71pjcufytyi', '950', 'glitching', 'scratch', 'pictwittercomh6anld8kpy', 'upsetting', 'tell', 'photo', 'bottom', 'xbox', 'bei', 'whereismyhomebutton', 'saw', 'carry', 'without', 'information', 'though', 'spinning', 'every', 'december', 'reservations', 'fb', 'putting', 'things', 'perfectly', 'pleasure', 'shouldnt', 'smallcant', 'tough', 'youtubegy2t9uwuhmwa', 'luck', 'firstmrwhosetheboss', 'ft', 'example', 'cs', 'misses', 'casey', 'level', 'uc', 'loli', 'randomly', 'th', 'biggest', 'tbhwe', 'cast', 'expensivei', 'photos', 'give', 'length', 'chez', 'reopenyo', 'know', 'heart', 'us', 'repeatedly', 'accessible', 'freezewe', 'a', 'bank', 'so', 'small', 'club', 'everyone', 'birthday', 'applehow', 'update', 'towow', 'freewould', 'slowing', 'garyvee', 'benton', 'struggling', 'thanksi', 'sounds', 'entire', 'promotion', 'macworldcomarticle323667', '400k', 'pictwittercomama02k5njci', 'ask', 'indonesia', 'input', 'planning', 'proi', 'latest', 'batches', 'davidinglestviphone', '2000', 'fall', 'interested', 'pto', 'pay', 'badoh', 'invoke', 'recommend', 'nowhen', 'glasses', 'genius', 'sort', 'ciaravinoecon', 'xapple', 'samsungmobile', 'instai', 'ear', 'themi', 'dad', 'recognition', 'order', 'iphonexso', 'pic', 'including', 'r', 'ityall', 'productsletterthanks', 'feel', 'roadto500k', 'adjust', 'held', 'work', 'alreadywhys', 'displayor', 'times', 'mistake', 'grandpa', 'enabler', 'saying', 'obviously', '1when', 'key', 'biased', 'tried', '75', 'experienced', 'youtube9ca8zwjolfq', 'least', 'will', 'thathad', 'buyer', 'enchantments', 'refine', '64', 'generation', 'percentage', 'reported', 'ssame', 'costs', 'only', 'card', 'thenyou', 'iphonei', 'thread', 'trouble', 'lilyhands', 'features', 'usesnope', 'print', 'yeah', 'tends', 'b', 'georgia', 'refuse', '1063', 'vouchercloud', 'controlbesides', 'gesture', 'manager', 'controversial', 'totally', 'cheapest', 'dm', 'sadly', 'handing', 'people', 'job', 'confident', 'places', 'dive', 'feelslooks', 'surfaces', 'need', 'enough', 'face', 'outtta', 'bought', 'pernah', 'parent', 'unclaimed', 'tech', 'independent', 'ibooks', 'tomorrow', 'thank', 'impatienti', 'impulse', 'supreme', 'itim', 'devicetrying', 'pricetag', 'havini', 'severity', 'remember', 'tweakin', 'boy', 'scroll', 'longer', 'bucks', 'sexy', 'lte', 'wayvery', 'mei', 'morganfor', 'great', 'gadgets', 'ifttt2m9qbda', 'itwhen', '8talking', 'thugnology', 'trap', 'months', 'finish', 'cursewhen', 'february', 'laterif', 'stuck', 'available', 'bulgaria', 'paper', 'announcement', 'knowget', 'pressing', 'note', 'temps', 'oversaturated', '2', '12th', 'sim', 'play', 'mrwhosetheboss', 'switchingiphone', '14', 'amazing', 'soon', 'xr', 'bugs', 'week', 'onto', 'thrown', 'designed', 'biggeri', 'lollol', 'iphonexmy', 'ditching', 'major', 'joeygraceffa', '50', 'airpods', 'control', 'cyber', 'authorised', 'movie', '99cents', '300', 'animojis', 'cuz', 's3', 'newer', 'mad', 'hey', 'layout', 'tus926660732162154496', 'bogo', 'half', 'what', 'rn', 'unresponsive', '16', 'delivery', 'infoi', 'now', 'reach', 'could', 'david', 'dinrcgot', 'austinmann', '25', '5th', 'fecesi', 'keyboard', 'ground', 'overlooked', 'may3', 'annoy', 'smthnnice', 'contact', 'replying', 'ios1111', 'moneythis', 'cave', 'cards', 'inuse', 'problem', 'nothingwant', 'itapple', 'table', 'trolls', 'youtubeit', 'giving', 'expensive', 'snap', 'long', '72', 'xokay', 'course', 'expensivegoing', '333', 'rotate', 'copies', 'inch', 'later', 'madeim', 'spending', 'phonearenacomnewshereish', 'gunna', 'year', 'reserve', 'justify', 'that', 'owned', 'are', 'language', 'linkedinim', 'deciding', 'banksy', 'pix', 'riverdalei', 'explains', 'to', 'reject', '910', 'worked', 'goes', 'less', '6', 'belom', 'dey', 'tesco', 'zar', 'fanboy', 'tempted', 'applenewsa5quuwcqrbun9', 'terrible', 'purchased', 'ios', 'wanted', 'hmm', 'wakakakakasince', 'pictwittercomkueayojwmnim', 'suck', 'uglyretard', 'dinner', 'ghosting', 'xim', 'fourth', 'ifttt2ynoaib', 'its', 'fire', 'pictwittercomzhgomp7sr3iphone', 'se', 'chance', '23', 'bitly2i79hpw', 'pake', 'macbook', 'itid', 'jumbling', 'reallyyyyy', 'verizon', 'thats', 'fresh', 'friends', 'is', 'rest', 'weeks', 'compelling', 'icon', 'evr', 'danggg', 'letter', 'activate', 'sampe', 'buttons', 'silly', 'improving', 'africaidk', 'service', 'nigeriathe', 'erfon', 'displays', 'multiple', 'or', 'better', 'read', 'cali', 'been', 'cause', '6s', 'idk', 'cheaper', 'thatalso', 'screenshotted', 'unlimited', 'pushed', 'room', 'legit', 'europe', 'sending', 'heap', '13', 'urge', 'likely', 'clips', 'shall', 'public', 'enrollee', 'francisco', 'sugar', 'let', 'tim', 'past', 'eitherios', 'brokeok', 'yea', 'xs', 'pretty', 'af', 'salesomeone', 'mom', 'yr', 'encourage', 'smh', 'xlove', 'who', 'class', 'due', 'sexiest', 'fun', 'musically', '8before', 'pointthank', 'support', 'pictwittercom3ech4wkrjcomg', 'twittercomafuaasamstatu', 'busting', 'wtf', 'doi', 'xpensive', 'brag', 'paying', 'preorder', 'has', 'consideration', 'sir', 'background', 'elsewhere', 'okay', 'decision', 'outyesterday', 'alsougghhh', 'way', 'depth', 'spendbeen', 'messing', 'no1', 'flop', 'vagaries', 'waitfew', 'e8n96wyoq', 'tatus930831560189898754', 'stock', 'methanks', 'received', 'firstdo', 'news', 'hardly', 'thankssee', 'thotoday', 'cases', 'prereleasethe', 'attcaresonly', 'eh', 'copied', 'oldest', '8', 'app', 'find', 'used', 'alreadywhen', 'glitch', 'isthe', 'thxyeah', 'pricesactually', 'snaps', 'agree', 'see', 'advantage', 'drunk', 'goodness', 'waste', 'urgent', 'arrive', 'idea', 'wasso', 'speaker', 'mon', '13333', 'customerafrican', 'cant', 'since', 'stuff', 'option', 'switching', 'p', 'knew', 'lure', 'almost', 'ugly', 'pictwittercom9maes4iod2i', 'free', 'amount', 'tapi', 'convinced', 'sorryhate', 'pradesh', '45', 'idiot', 'lot', 'ass', 'hotel', 'kind', 'contractoneplus', 'please', 'ridiculously', 'xd', 'tht', 'lags', 'mobile', 'youboss', 'release', 'bullshittin', 'favor', 'calendar', 'whatever', 'pm', 'second', 'nhs', 'sound', 'patronize', 'true', 'screenif', 'boring', 'plusevery', 'nowthat', 'lightingi', 'replacement', 'prontomore', 'ok', 'u', 'strongly', 'ngl', 'list', 'xscrew', 'discount', 'lexysavvides', 'scheme', 'basically', 'nominate', 'dayi', 'llama', 'significant', 'rep', 'googlyafuzy', 'fingerprint', 'switch', 'alreadyi', 'improvementscrazy', 'satisfaction', 'taxation', 'plzi', 'fansite', 'it100', 'qualityspeaker', 'singularity', 'maroc_telecom', 'hi', 'scituate', 'specifically', 'needed', 'i', 'seun', 'twittercommaroc_telecom', 'hai', 'thoughif', 'realized', 'ux', 'shouldbuy', '49', 'consistently', '17', 'interestedi', 'fix', '10x', 'deals', 'recevoir', 'flight', 'start', 'isumm', 'finding', 'competitors', 'tall', 'technologies', 'prefer', '5', 'bring', 'nervous', 'igpus', 'twittercomnadeshotstatu', 'had', 'bestfirst', 'watching', 'resort', 'horrendous', 'ought', 'polished', 'sheep', 'emoji', 'once', 'wouldve', 'screenshot', 'horrificim', 'line', 'mute', 'ending', 'bugged', 'they', 'folk', 'reportssome', 'iphoneo', 'goodgot', 'important', 'hypercritical', 'tm', 'googlb3xnbe', 'tiffany', 'quit', '10yearold', 'hecho', 'brotheri', 'regular', 'adulting', 'downgrade', 'hahahait', 'twittercomtyonna_mossst', 'notified', 'everythingdamn', 'bitly2z2qjv5', 'specs', 'ee', 'expected', '1sad', 'walked', 'played', 'transit', 'paintings', 'make', 'offer', 'boringembracing', 'shoes', 'iphonexlololol', 'day', 'na', '256g', 'dumpty', 'color', 'youyes', 'original', 'buttonmy', 'big', 'whole', 'wash', 'israel', 'look', 'superior', 'handsso', 'accuracy', 'years', 'blew', 'time', 'appreciated', 'tho', 'cracklingsound', 'recognize', 'if', 'werent', 'program', 'away', 'itcouldnt', 'experiences', 'tax', 'stunning', 'hiring', 'asking', 'sales', 'playing', 'right', 'early', 'servicebeen', 'naira', 'y3', 'local', 'exited', 'prize', 'spider', '129', 'die', 'of', 'durability', 'written', 'starting', 'stories', 'xpraying', 'itshit', 'carmy', 'gift', 'account', 'shitgotta', 'with', '9yo', 'zone', 'enter', 'crazy', 'crap', 'ridiculous', 'fan', 'about', 'saved', 'firstworldproblemshate', 'weeki', 'requires', 'w', 'throw', 'released', 'meant', 'touch', '2018it', 'felt', 'portrait', 'degrees', 'intial', 'reallyi', 'subtle', 'panchkula', 'pictwittercomgu7wn22niai', 'follower', 'someone', 'test', 'uk', 'sick', 'makeup', 'yeri', 'appledo', 'screenlooking', 'screen', 'cognitivedissonancereturning', 'couldnt', 'loren', 'appreciate', 'girls', 'strange', 'shipping', 'prepaid', 'picture', 'glad', 'presents', 'apple', 'sells', 'build', 'black', 'nowsomething', 'flagship', 'bonkers', 'eurotrip', 'carriers', 'jumia', 'thoughcant', 'buyi', 'graysondolan', 'weather', 'ui', 'ecosystem', 'one', 'oled', 'student', 'pluswhen', 'realisticallythe', 'hopped', 'thoughiphone', 'kdbut', 'deadass', 'tire', 'shifting', 'apps', 'decide', 'funny', 'try', '370', 'googlfbfu76pf', 'whatsapp', 'per', 'buzzing', 'hear', 'season', 'charger', 'conspiracy', 'stay', 'mins', 'literally', 'pubg', 'thisat', 'amp', 'gvwyioemu3ld0', 'bnow', '256', 'youtubedrveunle5noa', '1rst', 'skincare', 'notice', 'economical', 'games', 'january', '540', 'feeling', 'alsoi', 'hon', 'holding', 'handson', 'mother', 'ever', 'searcher', 'quality', '1500', 'cook', 'even', 'gadget', 'breadyeah', 'iphone', 'technologymy', 'picking', 'bootleg', 'simply', '152', '10im', 'sad', 'comes', 'freeze', '1', 'should', 'mf', 'dudeupdate', 'wack', 'otps', 'poop', 'everybody', 'bigger', 'reali', 'wonder', 'twelve', 'paid', 'stressed', 'decided', 'festive', 'pleasei', 'everything', 'notchbad', 'booked', 'yesterday', 'logan', 'too', 'pray', 'laptopyou', 'waterproofapples', 'drawls', 'nofilter', 'friend', 'screwed', 'http', 'edge', 'currently', 'releasealhamdulillah', 'freelove', 'youll', 'badpengen', 'most', 'headphones', 'gaming', 'asap', 'omg', 'morons', 'prolly', 'hell', 'you', 'dream', 'bf', 'thr', 'grown', 'bc', 'noticed', 'liked', 'radial', 'pelayo', 'display', 'it', 'dislike', 'false', 'sister', 'real', 'smashing', 'leastthats', 'backwhy', 'beechloren02', 'us816613182479466496', 'needless', 'loyal', 'drop', 'brothers', '100200', 'itmight', 'upgrade', 'pictwittercom8odmkuxsrkto', 'choose', 'learning', 'howto', 'smaller', 'days', '10gb', 'expensivewhy', 'themkindly', 'version', 'lens', 'phones', 'making', 'buttt', 'professor', '7plus', 'apart', 'issues', 'expensiveiphone', 'cheap', 'means', 'monthas', 'verizons', 'pixel', 'giveaway', '8s', 'accurate', 'assistance', 'friday', 'twittercomtmobilestatus', 'compliments', 'headphone', 'spensive', 'your', 'causing', 'baseveryone', 'ah', '34', 'official', 'flip', 'battery', 'shopping', 'samsung', 'looks', 'cinematic', 'deck', 'mps', 'beat', 'unlockedtryna', 'whilst', 'usually', 'alright', 'pc', 'honest', 'pro', 'outi', 'kids', 'wan', 'talking', 'updated', 'college', 'xmakes', 'difference', 'ios11', 'happy', 'diamonds', 'jealous', 'itwas', 'students', 'barely', '4gb', 'xstand', 'travel', 'feelyeah', 'ruins', 'talked', 'shiti', 'gripe', 'bug', 'insane', 'breaks', 'alreadylooks', 'prettyyall', 'xhave', 'complain', 'screw', 'ive', 'save', 'cute', 's9', 'chargetecno', 'elements', 'guides', 'where', 'everythingmultiple', 'rt', 'starbucks', 'experiencei', 'spoiled', 'fancy', 'deal', 'ownershipits', 'followers', 'polaroidyour', 'twittercomtia_ewingstat', 'back', 'airtel', 'serious', 'swhen', 'upsomeone', 'developers', 'doubts', 'daymaybe', 'fast', 'kidneyno', 'loss', 'payments', 'advicing', 'tabs', 'comfort', 'tablets', 'hardest', 'desperately', 'pictwittercome68xxa0qay', 'freezes', 'vem', 'wowmy', 'combining', 'using', 'floor', 'bcs', 'fooling', 'someones', 'articles', 'canceled', 'receive', 'mixed', 'use', '8plus', 'holiday', '64gbawesome', 'offangle', '10the', 'ends', 'collapse', 'india', '3t', 'mbad', 'rotates', 'steven', 'set', 'brightness', 'living', 'dimensions', 'price', 'alreadywtf', 'irritating', 'moms', 'ago', 'themiphone', 'two', 'pixel3', 'bruv', 'iphonesngl', 'primary', 'ones', '179', 'when', 'whoever', 'wow', 'la', 'status930437339305971712', 'colombia', 'everythingget', 'refund', '2x', 'daybreakasia', 'loved', '276', 'base', 'co', 'youtube0ercfyjqhn0a', 'massively', 'vs', 'animojilife', 'sprint', 'twitter', 'lowkey', 'slower', 'good', 'pictures', 'youtubecmiz1lcq5fka', 'brokehsbc', 'note8', 'month', 'telling', 'a130pm', 'promised', 'ittim', 'link', 'woman', 'parody', 'patiently', 'vertical', 'advisee', 'sams', 'golden', 'skip', 'such', 'noticeablely', 'issue', 'screens', 'ride', 'britney', 'casa', 'iftttea8v8j', 'text', 'realise', 'hellllla', 'cancel', 'strong', 'dont', 'charging', '90k', 'lolrt', 'gigabit', 'dying', 'gb', 'lol', '545', 'batch', 'executive', 'onei', 'afford', 'reduce', 'redesign', 'roundmy', 'forever', 'newscan', 'izen', '79', 'presenting', 'springs', 'sizehow', 'forgotten', 'gold', 'rts', 'can', 'bad', 'different', 'oldim', 'funding', 'takut', 'rubber', 'https', 'youtubeou89o_ppubya', '7its', 'johnlegerei', 'oneyou', '1010', 'c4etechtamil', 'become', 'piece', 'att', 'check', 'inexpensive', '1000', 'dropped', 'gotten', 'soooo', 'signed', 'prayersof', 'august', 'thing', 'bet', 'design', 'pictwittercome7nqh9sdq2can', '150', 'were', 'worth', 'three', 'but', 'innovation', 'slow', 'freehold', 'trynna', 'homeless', 'wide', 'llamaid', '2nd', 'noticeable', 'glitches', 'any', 'believe', 'broke', 'whateva', 'roast', '20', 'otterbox', 'hours', 'dis', 'sena', 'pici', '4k', 'maybe', 'ready', 'youtubenpt5tsd0bbi', 'velocity', '109', 'have', 'trees', 'itnow', 'compete', 'piasa', 'fund', 'counterpartsi', 'aed', 'conversation', 'turn', 'ya', 'open', 'produce', '26', 'programme', 'xnice', 'annoyed', 'web', 'rowi', 'goddd', 'cut', 'hope', 'jesus', 'oneawesome', 'bell', 'dumbass', 'episode', 'finna', 'reason', 'told', 'ferrari', 'wig', '4omg', 'remove', 'thanks', '395', 'siracusa', 'scare', 'range', 'tuesdayso', 'chose', 'cooper', 'haha', 'dinosaur', 'emojis', 'iphone8', 'aapl', 'badthat', 'concludes', 'damn', 'iphonexrapple', 'nokia', 'as', 'sides', '2017', 'mac', 'bit', 'camerahow', 'post', 'custom', 'thoughlove', 'model', 'space', 'house', 'deserve', 'luckman', 'augmented', 'xto', 'owe', 'hard', 'ziegler', 'ituprgrading', 'trust', '78', 'outso', 'introduce', 'recognizing', 'site', 'groceriesthe', 'pushing', 'done', 'wtfi', 'much', 'get', 'seeing', 'muchkinda', 'forcing', 'buddy', 'jailbreak', '2150', 'purpose', 'wants', 'promises', 'ta', 'havent', 'wait', 'wallet', 'telli', 'pictwittercom7tzbh5hnj4i', 'first', 'thankshad', 'dlvritqsrghp', 'clothes', 'paychecks', 'how', 'youtubeqknddc_ervy', 'oooo', '5t', 'already', 'adapting', 'box', 'mess', 'storewish', 'we', 'screenyall', 'snapchat', 'grow', 'send', 'tipsi', '9934000507', 'anything', 'sell', 'something', 'insanely', 'green', 'differentneed', 'xthe', 'bitch', 'nose', 'decade', 'gun', 'summary', 'yall', 'uki', 'verdict', 'mask', 'rich', 'ti', 'top', 'youtube7ogyolyko6aa', 'online', 'estimated', 'sitting', 'pictwittercomvupeg5nezxam', 'peoples', 'rolling', 'imma', 'tree', 'shambig', 'akhirnya', 'wrong', 'htlyjzup50fbcgr', 'girl', 'faulty', 'foodforthoughtneed', 'joy', 'onboard', 'item', 'concerns', 'somehow', 'content', 'gifts', 'listened', 'november', 'swapped', 'adult', 'chat', '247', 'person', 'pocket', 'hype', 'sophia', 'lightning', 'zstatus928770595763957760', 'storesi', 'others', 'tracking', 'bday', 'said', 'mean', '6sand', 'full', 'n', 'piezoelectric', 'prepped', 'knocki', 'prank', 'fell', '4mbit', 'models', 'extremely', 'camerai', 'galaxy', 'materialmy', 'freezing', 'fantastic', 'sample', 'gets', 'moron', 'constantlydaily', 'twittercomiwebstatus9', 'last', 'futurei', 'xtrying', 'casinothe', 'consumerist', 'prob', 'photographers', 'criminal', 'their', '7', 'eiiapplesupport', 'htc', 'greatkid', 'convincing', 'bedroom', 'animoji', 'reviewi', 'adapteri', 'ihnatko', 'brings', 'christmasi', 'swear', 'gon', 'included', 'phoneiphone', 'pvp', 'came', 'low', 'match', '1300', 'hed', 'ps', 'harder', 'lmao', 'originally', 'code', 'attempt', 'absolutely', 'olds', 'probably', 'a37with', 'killing', 'arent', 'shared', 'isgod', 'clearly', 'dec', 'pissed', 'ownsamsunggalaxy', 'email', 'lame', 'retweet', 'meal', 'whos', 'patient', 'pictwittercom3ech4wkrjcneed', 'doesnt', 'waiting', 'gestures', 'onecan', 'perfect', 'technology', '3', 'vouchercloudcomdid1988896r', 'bitchthe', 'pictwittercomckyos4jwuti', 'ad', 'purposely', '8need', 'ratu', 'ticket', 'filters', 'gone', 'old', 'jolove', 'lock', 'storeim', 'seriously', 'jasonnash', '28771583723823104', '400']\n"
     ]
    }
   ],
   "source": [
    "def make_unique_li(li_cleanText):\n",
    "    unique_words_set= set(li_cleanText)\n",
    "    unique_word_li = list(unique_words_set)\n",
    "    return unique_word_li\n",
    "\n",
    "\n",
    "def stemmed(li_cleanText):\n",
    "    count_stemed=0\n",
    "    for word in li_cleanText:\n",
    "        if word[-1]==\"s\":\n",
    "            li_cleanText[count_stemed]=word[:-1]\n",
    "        elif word[-2:]==\"ed\":\n",
    "            li_cleanText[count_stemed]=word[:-2]\n",
    "        elif word[-3:]==\"ing\":\n",
    "            li_cleanText[count_stemed]=word[:-3]\n",
    "        count_stemed+=1  \n",
    "    return li_cleanText   \n",
    "# li_stemmed = stemmed(li_cleaned_text)\n",
    "uniqueWords = make_unique_li(li_cleaned_text)\n",
    "print(uniqueWords)"
   ]
  },
  {
   "cell_type": "code",
   "execution_count": 162,
   "metadata": {},
   "outputs": [],
   "source": [
    "def Bag():\n",
    "    textList = []\n",
    "    for doc in final_df['text']:\n",
    "        words = doc.split()\n",
    "        tempWordList = []\n",
    "        isThere = False\n",
    "        for selectWord in uniqueWords:\n",
    "            for word in words:\n",
    "                if selectWord == word.lower():\n",
    "                    isThere = True\n",
    "                    break\n",
    "            \n",
    "            if(isThere == True):\n",
    "                tempWordList.append(1)\n",
    "            else:\n",
    "                tempWordList.append(0)\n",
    "        textList.append(tempWordList)\n",
    "    return textList\n",
    "\n",
    "def dataReadyForModel():\n",
    "    X = Bag()\n",
    "    Y = []\n",
    "    for i in final_df['class']:\n",
    "        if i == 'yes':\n",
    "            Y.append(1)\n",
    "        else:\n",
    "            Y.append(0)\n",
    "    \n",
    "    return (X,Y)\n",
    "\n",
    "X_train, Y_train = dataReadyForModel()    \n",
    "\n"
   ]
  },
  {
   "cell_type": "code",
   "execution_count": 174,
   "metadata": {},
   "outputs": [
    {
     "data": {
      "text/plain": [
       "(755,)"
      ]
     },
     "execution_count": 174,
     "metadata": {},
     "output_type": "execute_result"
    }
   ],
   "source": [
    "X_train, Y_train = dataReadyForModel() \n",
    "xNp = np.array(X_train)\n",
    "yNp = np.array(Y_train)\n",
    "yNp.shape"
   ]
  },
  {
   "cell_type": "code",
   "execution_count": 175,
   "metadata": {},
   "outputs": [],
   "source": [
    "import tensorflow as tf\n",
    "from tensorflow.keras import layers"
   ]
  },
  {
   "cell_type": "code",
   "execution_count": 176,
   "metadata": {},
   "outputs": [],
   "source": [
    "model = tf.keras.Sequential()\n",
    "# Adds a densely-connected layer with 64 units to the model:\n",
    "model.add(layers.Dense(64, activation='relu'))\n",
    "# Add another:\n",
    "model.add(layers.Dense(64, activation='relu'))\n",
    "# Add a softmax layer with 10 output units:\n",
    "model.add(layers.Dense(2, activation='softmax'))\n",
    "\n",
    "model.compile(optimizer='adam',\n",
    "              loss='sparse_categorical_crossentropy',\n",
    "              metrics=['accuracy'])\n"
   ]
  },
  {
   "cell_type": "code",
   "execution_count": 178,
   "metadata": {},
   "outputs": [
    {
     "name": "stdout",
     "output_type": "stream",
     "text": [
      "Epoch 1/10\n",
      "755/755 [==============================] - 0s 191us/sample - loss: 0.6438 - acc: 0.6384\n",
      "Epoch 2/10\n",
      "755/755 [==============================] - 0s 179us/sample - loss: 0.6454 - acc: 0.6384\n",
      "Epoch 3/10\n",
      "755/755 [==============================] - 0s 179us/sample - loss: 0.6464 - acc: 0.6384\n",
      "Epoch 4/10\n",
      "755/755 [==============================] - 0s 180us/sample - loss: 0.6511 - acc: 0.6384\n",
      "Epoch 5/10\n",
      "755/755 [==============================] - 0s 177us/sample - loss: 0.6466 - acc: 0.6384\n",
      "Epoch 6/10\n",
      "755/755 [==============================] - 0s 188us/sample - loss: 0.6474 - acc: 0.6384\n",
      "Epoch 7/10\n",
      "755/755 [==============================] - 0s 219us/sample - loss: 0.6530 - acc: 0.6371\n",
      "Epoch 8/10\n",
      "755/755 [==============================] - 0s 207us/sample - loss: 0.6436 - acc: 0.6424\n",
      "Epoch 9/10\n",
      "755/755 [==============================] - 0s 183us/sample - loss: 0.6434 - acc: 0.6384\n",
      "Epoch 10/10\n",
      "755/755 [==============================] - 0s 181us/sample - loss: 0.6429 - acc: 0.6384\n"
     ]
    },
    {
     "data": {
      "text/plain": [
       "<tensorflow.python.keras.callbacks.History at 0x18489841fd0>"
      ]
     },
     "execution_count": 178,
     "metadata": {},
     "output_type": "execute_result"
    }
   ],
   "source": [
    "model.fit(xNp, yNp, epochs=10)"
   ]
  },
  {
   "cell_type": "code",
   "execution_count": null,
   "metadata": {},
   "outputs": [],
   "source": []
  }
 ],
 "metadata": {
  "kernelspec": {
   "display_name": "Python 3",
   "language": "python",
   "name": "python3"
  },
  "language_info": {
   "codemirror_mode": {
    "name": "ipython",
    "version": 3
   },
   "file_extension": ".py",
   "mimetype": "text/x-python",
   "name": "python",
   "nbconvert_exporter": "python",
   "pygments_lexer": "ipython3",
   "version": "3.7.1"
  }
 },
 "nbformat": 4,
 "nbformat_minor": 2
}
